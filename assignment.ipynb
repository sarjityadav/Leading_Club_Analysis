{
 "cells": [
  {
   "cell_type": "code",
   "execution_count": 143,
   "id": "60c36d04",
   "metadata": {},
   "outputs": [],
   "source": [
    "#import required lib\n",
    "import numpy as np\n",
    "import pandas as pd\n",
    "import matplotlib.pyplot as plt\n",
    "import seaborn as sns\n",
    "import warnings\n",
    "warnings.filterwarnings('ignore')"
   ]
  },
  {
   "cell_type": "code",
   "execution_count": 144,
   "id": "804e60bf",
   "metadata": {},
   "outputs": [
    {
     "data": {
      "text/html": [
       "<div>\n",
       "<style scoped>\n",
       "    .dataframe tbody tr th:only-of-type {\n",
       "        vertical-align: middle;\n",
       "    }\n",
       "\n",
       "    .dataframe tbody tr th {\n",
       "        vertical-align: top;\n",
       "    }\n",
       "\n",
       "    .dataframe thead th {\n",
       "        text-align: right;\n",
       "    }\n",
       "</style>\n",
       "<table border=\"1\" class=\"dataframe\">\n",
       "  <thead>\n",
       "    <tr style=\"text-align: right;\">\n",
       "      <th></th>\n",
       "      <th>id</th>\n",
       "      <th>member_id</th>\n",
       "      <th>loan_amnt</th>\n",
       "      <th>funded_amnt</th>\n",
       "      <th>funded_amnt_inv</th>\n",
       "      <th>term</th>\n",
       "      <th>int_rate</th>\n",
       "      <th>installment</th>\n",
       "      <th>grade</th>\n",
       "      <th>sub_grade</th>\n",
       "      <th>...</th>\n",
       "      <th>num_tl_90g_dpd_24m</th>\n",
       "      <th>num_tl_op_past_12m</th>\n",
       "      <th>pct_tl_nvr_dlq</th>\n",
       "      <th>percent_bc_gt_75</th>\n",
       "      <th>pub_rec_bankruptcies</th>\n",
       "      <th>tax_liens</th>\n",
       "      <th>tot_hi_cred_lim</th>\n",
       "      <th>total_bal_ex_mort</th>\n",
       "      <th>total_bc_limit</th>\n",
       "      <th>total_il_high_credit_limit</th>\n",
       "    </tr>\n",
       "  </thead>\n",
       "  <tbody>\n",
       "    <tr>\n",
       "      <th>0</th>\n",
       "      <td>1077501</td>\n",
       "      <td>1296599</td>\n",
       "      <td>5000</td>\n",
       "      <td>5000</td>\n",
       "      <td>4975.0</td>\n",
       "      <td>36 months</td>\n",
       "      <td>10.65%</td>\n",
       "      <td>162.87</td>\n",
       "      <td>B</td>\n",
       "      <td>B2</td>\n",
       "      <td>...</td>\n",
       "      <td>NaN</td>\n",
       "      <td>NaN</td>\n",
       "      <td>NaN</td>\n",
       "      <td>NaN</td>\n",
       "      <td>0.0</td>\n",
       "      <td>0.0</td>\n",
       "      <td>NaN</td>\n",
       "      <td>NaN</td>\n",
       "      <td>NaN</td>\n",
       "      <td>NaN</td>\n",
       "    </tr>\n",
       "    <tr>\n",
       "      <th>1</th>\n",
       "      <td>1077430</td>\n",
       "      <td>1314167</td>\n",
       "      <td>2500</td>\n",
       "      <td>2500</td>\n",
       "      <td>2500.0</td>\n",
       "      <td>60 months</td>\n",
       "      <td>15.27%</td>\n",
       "      <td>59.83</td>\n",
       "      <td>C</td>\n",
       "      <td>C4</td>\n",
       "      <td>...</td>\n",
       "      <td>NaN</td>\n",
       "      <td>NaN</td>\n",
       "      <td>NaN</td>\n",
       "      <td>NaN</td>\n",
       "      <td>0.0</td>\n",
       "      <td>0.0</td>\n",
       "      <td>NaN</td>\n",
       "      <td>NaN</td>\n",
       "      <td>NaN</td>\n",
       "      <td>NaN</td>\n",
       "    </tr>\n",
       "    <tr>\n",
       "      <th>2</th>\n",
       "      <td>1077175</td>\n",
       "      <td>1313524</td>\n",
       "      <td>2400</td>\n",
       "      <td>2400</td>\n",
       "      <td>2400.0</td>\n",
       "      <td>36 months</td>\n",
       "      <td>15.96%</td>\n",
       "      <td>84.33</td>\n",
       "      <td>C</td>\n",
       "      <td>C5</td>\n",
       "      <td>...</td>\n",
       "      <td>NaN</td>\n",
       "      <td>NaN</td>\n",
       "      <td>NaN</td>\n",
       "      <td>NaN</td>\n",
       "      <td>0.0</td>\n",
       "      <td>0.0</td>\n",
       "      <td>NaN</td>\n",
       "      <td>NaN</td>\n",
       "      <td>NaN</td>\n",
       "      <td>NaN</td>\n",
       "    </tr>\n",
       "    <tr>\n",
       "      <th>3</th>\n",
       "      <td>1076863</td>\n",
       "      <td>1277178</td>\n",
       "      <td>10000</td>\n",
       "      <td>10000</td>\n",
       "      <td>10000.0</td>\n",
       "      <td>36 months</td>\n",
       "      <td>13.49%</td>\n",
       "      <td>339.31</td>\n",
       "      <td>C</td>\n",
       "      <td>C1</td>\n",
       "      <td>...</td>\n",
       "      <td>NaN</td>\n",
       "      <td>NaN</td>\n",
       "      <td>NaN</td>\n",
       "      <td>NaN</td>\n",
       "      <td>0.0</td>\n",
       "      <td>0.0</td>\n",
       "      <td>NaN</td>\n",
       "      <td>NaN</td>\n",
       "      <td>NaN</td>\n",
       "      <td>NaN</td>\n",
       "    </tr>\n",
       "    <tr>\n",
       "      <th>4</th>\n",
       "      <td>1075358</td>\n",
       "      <td>1311748</td>\n",
       "      <td>3000</td>\n",
       "      <td>3000</td>\n",
       "      <td>3000.0</td>\n",
       "      <td>60 months</td>\n",
       "      <td>12.69%</td>\n",
       "      <td>67.79</td>\n",
       "      <td>B</td>\n",
       "      <td>B5</td>\n",
       "      <td>...</td>\n",
       "      <td>NaN</td>\n",
       "      <td>NaN</td>\n",
       "      <td>NaN</td>\n",
       "      <td>NaN</td>\n",
       "      <td>0.0</td>\n",
       "      <td>0.0</td>\n",
       "      <td>NaN</td>\n",
       "      <td>NaN</td>\n",
       "      <td>NaN</td>\n",
       "      <td>NaN</td>\n",
       "    </tr>\n",
       "  </tbody>\n",
       "</table>\n",
       "<p>5 rows × 111 columns</p>\n",
       "</div>"
      ],
      "text/plain": [
       "        id  member_id  loan_amnt  funded_amnt  funded_amnt_inv        term  \\\n",
       "0  1077501    1296599       5000         5000           4975.0   36 months   \n",
       "1  1077430    1314167       2500         2500           2500.0   60 months   \n",
       "2  1077175    1313524       2400         2400           2400.0   36 months   \n",
       "3  1076863    1277178      10000        10000          10000.0   36 months   \n",
       "4  1075358    1311748       3000         3000           3000.0   60 months   \n",
       "\n",
       "  int_rate  installment grade sub_grade  ... num_tl_90g_dpd_24m  \\\n",
       "0   10.65%       162.87     B        B2  ...                NaN   \n",
       "1   15.27%        59.83     C        C4  ...                NaN   \n",
       "2   15.96%        84.33     C        C5  ...                NaN   \n",
       "3   13.49%       339.31     C        C1  ...                NaN   \n",
       "4   12.69%        67.79     B        B5  ...                NaN   \n",
       "\n",
       "  num_tl_op_past_12m pct_tl_nvr_dlq  percent_bc_gt_75 pub_rec_bankruptcies  \\\n",
       "0                NaN            NaN               NaN                  0.0   \n",
       "1                NaN            NaN               NaN                  0.0   \n",
       "2                NaN            NaN               NaN                  0.0   \n",
       "3                NaN            NaN               NaN                  0.0   \n",
       "4                NaN            NaN               NaN                  0.0   \n",
       "\n",
       "  tax_liens tot_hi_cred_lim total_bal_ex_mort total_bc_limit  \\\n",
       "0       0.0             NaN               NaN            NaN   \n",
       "1       0.0             NaN               NaN            NaN   \n",
       "2       0.0             NaN               NaN            NaN   \n",
       "3       0.0             NaN               NaN            NaN   \n",
       "4       0.0             NaN               NaN            NaN   \n",
       "\n",
       "  total_il_high_credit_limit  \n",
       "0                        NaN  \n",
       "1                        NaN  \n",
       "2                        NaN  \n",
       "3                        NaN  \n",
       "4                        NaN  \n",
       "\n",
       "[5 rows x 111 columns]"
      ]
     },
     "execution_count": 144,
     "metadata": {},
     "output_type": "execute_result"
    }
   ],
   "source": [
    "#load data from csv file\n",
    "df = pd.read_csv('loan.csv',low_memory=False)\n",
    "df.head()"
   ]
  },
  {
   "cell_type": "code",
   "execution_count": 146,
   "id": "75fafa67",
   "metadata": {},
   "outputs": [
    {
     "data": {
      "text/plain": [
       "(39717, 111)"
      ]
     },
     "execution_count": 146,
     "metadata": {},
     "output_type": "execute_result"
    }
   ],
   "source": [
    "# check no of row and columns\n",
    "df.shape"
   ]
  },
  {
   "cell_type": "code",
   "execution_count": 147,
   "id": "05835b61",
   "metadata": {},
   "outputs": [
    {
     "data": {
      "text/plain": [
       "id                                0\n",
       "member_id                         0\n",
       "loan_amnt                         0\n",
       "funded_amnt                       0\n",
       "funded_amnt_inv                   0\n",
       "                              ...  \n",
       "tax_liens                        39\n",
       "tot_hi_cred_lim               39717\n",
       "total_bal_ex_mort             39717\n",
       "total_bc_limit                39717\n",
       "total_il_high_credit_limit    39717\n",
       "Length: 111, dtype: int64"
      ]
     },
     "execution_count": 147,
     "metadata": {},
     "output_type": "execute_result"
    }
   ],
   "source": [
    "df.isnull().sum()"
   ]
  },
  {
   "cell_type": "code",
   "execution_count": 148,
   "id": "224dc7b1",
   "metadata": {},
   "outputs": [
    {
     "data": {
      "text/html": [
       "<div>\n",
       "<style scoped>\n",
       "    .dataframe tbody tr th:only-of-type {\n",
       "        vertical-align: middle;\n",
       "    }\n",
       "\n",
       "    .dataframe tbody tr th {\n",
       "        vertical-align: top;\n",
       "    }\n",
       "\n",
       "    .dataframe thead th {\n",
       "        text-align: right;\n",
       "    }\n",
       "</style>\n",
       "<table border=\"1\" class=\"dataframe\">\n",
       "  <thead>\n",
       "    <tr style=\"text-align: right;\">\n",
       "      <th></th>\n",
       "      <th>id</th>\n",
       "      <th>member_id</th>\n",
       "      <th>loan_amnt</th>\n",
       "      <th>funded_amnt</th>\n",
       "      <th>funded_amnt_inv</th>\n",
       "      <th>term</th>\n",
       "      <th>int_rate</th>\n",
       "      <th>installment</th>\n",
       "      <th>grade</th>\n",
       "      <th>sub_grade</th>\n",
       "      <th>...</th>\n",
       "      <th>next_pymnt_d</th>\n",
       "      <th>last_credit_pull_d</th>\n",
       "      <th>collections_12_mths_ex_med</th>\n",
       "      <th>policy_code</th>\n",
       "      <th>application_type</th>\n",
       "      <th>acc_now_delinq</th>\n",
       "      <th>chargeoff_within_12_mths</th>\n",
       "      <th>delinq_amnt</th>\n",
       "      <th>pub_rec_bankruptcies</th>\n",
       "      <th>tax_liens</th>\n",
       "    </tr>\n",
       "  </thead>\n",
       "  <tbody>\n",
       "    <tr>\n",
       "      <th>0</th>\n",
       "      <td>1077501</td>\n",
       "      <td>1296599</td>\n",
       "      <td>5000</td>\n",
       "      <td>5000</td>\n",
       "      <td>4975.0</td>\n",
       "      <td>36 months</td>\n",
       "      <td>10.65%</td>\n",
       "      <td>162.87</td>\n",
       "      <td>B</td>\n",
       "      <td>B2</td>\n",
       "      <td>...</td>\n",
       "      <td>NaN</td>\n",
       "      <td>May-16</td>\n",
       "      <td>0.0</td>\n",
       "      <td>1</td>\n",
       "      <td>INDIVIDUAL</td>\n",
       "      <td>0</td>\n",
       "      <td>0.0</td>\n",
       "      <td>0</td>\n",
       "      <td>0.0</td>\n",
       "      <td>0.0</td>\n",
       "    </tr>\n",
       "    <tr>\n",
       "      <th>1</th>\n",
       "      <td>1077430</td>\n",
       "      <td>1314167</td>\n",
       "      <td>2500</td>\n",
       "      <td>2500</td>\n",
       "      <td>2500.0</td>\n",
       "      <td>60 months</td>\n",
       "      <td>15.27%</td>\n",
       "      <td>59.83</td>\n",
       "      <td>C</td>\n",
       "      <td>C4</td>\n",
       "      <td>...</td>\n",
       "      <td>NaN</td>\n",
       "      <td>Sep-13</td>\n",
       "      <td>0.0</td>\n",
       "      <td>1</td>\n",
       "      <td>INDIVIDUAL</td>\n",
       "      <td>0</td>\n",
       "      <td>0.0</td>\n",
       "      <td>0</td>\n",
       "      <td>0.0</td>\n",
       "      <td>0.0</td>\n",
       "    </tr>\n",
       "    <tr>\n",
       "      <th>2</th>\n",
       "      <td>1077175</td>\n",
       "      <td>1313524</td>\n",
       "      <td>2400</td>\n",
       "      <td>2400</td>\n",
       "      <td>2400.0</td>\n",
       "      <td>36 months</td>\n",
       "      <td>15.96%</td>\n",
       "      <td>84.33</td>\n",
       "      <td>C</td>\n",
       "      <td>C5</td>\n",
       "      <td>...</td>\n",
       "      <td>NaN</td>\n",
       "      <td>May-16</td>\n",
       "      <td>0.0</td>\n",
       "      <td>1</td>\n",
       "      <td>INDIVIDUAL</td>\n",
       "      <td>0</td>\n",
       "      <td>0.0</td>\n",
       "      <td>0</td>\n",
       "      <td>0.0</td>\n",
       "      <td>0.0</td>\n",
       "    </tr>\n",
       "    <tr>\n",
       "      <th>3</th>\n",
       "      <td>1076863</td>\n",
       "      <td>1277178</td>\n",
       "      <td>10000</td>\n",
       "      <td>10000</td>\n",
       "      <td>10000.0</td>\n",
       "      <td>36 months</td>\n",
       "      <td>13.49%</td>\n",
       "      <td>339.31</td>\n",
       "      <td>C</td>\n",
       "      <td>C1</td>\n",
       "      <td>...</td>\n",
       "      <td>NaN</td>\n",
       "      <td>Apr-16</td>\n",
       "      <td>0.0</td>\n",
       "      <td>1</td>\n",
       "      <td>INDIVIDUAL</td>\n",
       "      <td>0</td>\n",
       "      <td>0.0</td>\n",
       "      <td>0</td>\n",
       "      <td>0.0</td>\n",
       "      <td>0.0</td>\n",
       "    </tr>\n",
       "    <tr>\n",
       "      <th>4</th>\n",
       "      <td>1075358</td>\n",
       "      <td>1311748</td>\n",
       "      <td>3000</td>\n",
       "      <td>3000</td>\n",
       "      <td>3000.0</td>\n",
       "      <td>60 months</td>\n",
       "      <td>12.69%</td>\n",
       "      <td>67.79</td>\n",
       "      <td>B</td>\n",
       "      <td>B5</td>\n",
       "      <td>...</td>\n",
       "      <td>Jun-16</td>\n",
       "      <td>May-16</td>\n",
       "      <td>0.0</td>\n",
       "      <td>1</td>\n",
       "      <td>INDIVIDUAL</td>\n",
       "      <td>0</td>\n",
       "      <td>0.0</td>\n",
       "      <td>0</td>\n",
       "      <td>0.0</td>\n",
       "      <td>0.0</td>\n",
       "    </tr>\n",
       "  </tbody>\n",
       "</table>\n",
       "<p>5 rows × 57 columns</p>\n",
       "</div>"
      ],
      "text/plain": [
       "        id  member_id  loan_amnt  funded_amnt  funded_amnt_inv        term  \\\n",
       "0  1077501    1296599       5000         5000           4975.0   36 months   \n",
       "1  1077430    1314167       2500         2500           2500.0   60 months   \n",
       "2  1077175    1313524       2400         2400           2400.0   36 months   \n",
       "3  1076863    1277178      10000        10000          10000.0   36 months   \n",
       "4  1075358    1311748       3000         3000           3000.0   60 months   \n",
       "\n",
       "  int_rate  installment grade sub_grade  ... next_pymnt_d last_credit_pull_d  \\\n",
       "0   10.65%       162.87     B        B2  ...          NaN             May-16   \n",
       "1   15.27%        59.83     C        C4  ...          NaN             Sep-13   \n",
       "2   15.96%        84.33     C        C5  ...          NaN             May-16   \n",
       "3   13.49%       339.31     C        C1  ...          NaN             Apr-16   \n",
       "4   12.69%        67.79     B        B5  ...       Jun-16             May-16   \n",
       "\n",
       "  collections_12_mths_ex_med  policy_code application_type acc_now_delinq  \\\n",
       "0                        0.0            1       INDIVIDUAL              0   \n",
       "1                        0.0            1       INDIVIDUAL              0   \n",
       "2                        0.0            1       INDIVIDUAL              0   \n",
       "3                        0.0            1       INDIVIDUAL              0   \n",
       "4                        0.0            1       INDIVIDUAL              0   \n",
       "\n",
       "  chargeoff_within_12_mths delinq_amnt pub_rec_bankruptcies tax_liens  \n",
       "0                      0.0           0                  0.0       0.0  \n",
       "1                      0.0           0                  0.0       0.0  \n",
       "2                      0.0           0                  0.0       0.0  \n",
       "3                      0.0           0                  0.0       0.0  \n",
       "4                      0.0           0                  0.0       0.0  \n",
       "\n",
       "[5 rows x 57 columns]"
      ]
     },
     "execution_count": 148,
     "metadata": {},
     "output_type": "execute_result"
    }
   ],
   "source": [
    "# drop cloumns having null values in all rows only\n",
    "df.dropna(axis = 1,how='all',inplace = True)\n",
    "df.head()"
   ]
  },
  {
   "cell_type": "code",
   "execution_count": 149,
   "id": "bbf4004a",
   "metadata": {},
   "outputs": [
    {
     "data": {
      "text/plain": [
       "(39717, 57)"
      ]
     },
     "execution_count": 149,
     "metadata": {},
     "output_type": "execute_result"
    }
   ],
   "source": [
    "# again check no of columns\n",
    "df.shape"
   ]
  },
  {
   "cell_type": "code",
   "execution_count": 88,
   "id": "f2930e95",
   "metadata": {},
   "outputs": [
    {
     "name": "stdout",
     "output_type": "stream",
     "text": [
      "Column: loan_amnt\n",
      "loan_amnt\n",
      "10000    2687\n",
      "12000    2147\n",
      "5000     1973\n",
      "6000     1836\n",
      "15000    1712\n",
      "         ... \n",
      "12625       1\n",
      "28500       1\n",
      "22125       1\n",
      "12425       1\n",
      "32875       1\n",
      "Name: count, Length: 853, dtype: int64\n",
      "Column: funded_amnt_inv\n",
      "funded_amnt_inv\n",
      "5000.000000     1262\n",
      "10000.000000    1212\n",
      "6000.000000     1154\n",
      "12000.000000     974\n",
      "8000.000000      860\n",
      "                ... \n",
      "5695.353089        1\n",
      "6321.184651        1\n",
      "14744.955110       1\n",
      "19836.427270       1\n",
      "150.000000         1\n",
      "Name: count, Length: 7560, dtype: int64\n",
      "Column: term\n",
      "term\n",
      " 36     27676\n",
      " 60      8930\n",
      "Name: count, dtype: int64\n",
      "Column: int_rate\n",
      "int_rate\n",
      "10.99    863\n",
      "7.51     768\n",
      "11.49    756\n",
      "13.49    722\n",
      "7.88     702\n",
      "        ... \n",
      "10.64      1\n",
      "18.36      1\n",
      "22.94      1\n",
      "22.64      1\n",
      "15.01      1\n",
      "Name: count, Length: 370, dtype: int64\n",
      "Column: installment\n",
      "installment\n",
      "311.11    65\n",
      "180.96    56\n",
      "311.02    52\n",
      "150.80    46\n",
      "372.12    44\n",
      "          ..\n",
      "158.26     1\n",
      "464.53     1\n",
      "274.21     1\n",
      "215.74     1\n",
      "255.43     1\n",
      "Name: count, Length: 14563, dtype: int64\n",
      "Column: grade\n",
      "grade\n",
      "B    11096\n",
      "A     9646\n",
      "C     7467\n",
      "D     4820\n",
      "E     2437\n",
      "F      881\n",
      "G      259\n",
      "Name: count, dtype: int64\n",
      "Column: sub_grade\n",
      "sub_grade\n",
      "A4    2749\n",
      "B3    2654\n",
      "A5    2599\n",
      "B5    2492\n",
      "B4    2333\n",
      "C1    1962\n",
      "B2    1899\n",
      "C2    1842\n",
      "A3    1749\n",
      "B1    1718\n",
      "A2    1451\n",
      "C3    1417\n",
      "D2    1220\n",
      "C4    1154\n",
      "A1    1098\n",
      "C5    1092\n",
      "D3    1061\n",
      "D1     883\n",
      "D4     869\n",
      "D5     787\n",
      "E1     675\n",
      "E2     562\n",
      "E3     468\n",
      "E4     392\n",
      "E5     340\n",
      "F1     275\n",
      "F2     215\n",
      "F3     156\n",
      "F4     137\n",
      "F5      98\n",
      "G1      87\n",
      "G2      65\n",
      "G4      45\n",
      "G3      40\n",
      "G5      22\n",
      "Name: count, dtype: int64\n",
      "Column: emp_length\n",
      "emp_length\n",
      "10    8898\n",
      "0     4315\n",
      "2     4096\n",
      "3     3820\n",
      "4     3194\n",
      "5     3040\n",
      "1     3037\n",
      "6     2070\n",
      "7     1641\n",
      "8     1342\n",
      "9     1153\n",
      "Name: count, dtype: int64\n",
      "Column: home_ownership\n",
      "home_ownership\n",
      "RENT        18000\n",
      "MORTGAGE    15665\n",
      "OWN          2847\n",
      "OTHER          91\n",
      "NONE            3\n",
      "Name: count, dtype: int64\n",
      "Column: annual_inc\n",
      "annual_inc\n",
      "60000.00    1466\n",
      "50000.00    1028\n",
      "40000.00     855\n",
      "45000.00     808\n",
      "30000.00     806\n",
      "            ... \n",
      "52518.72       1\n",
      "42204.00       1\n",
      "47232.00       1\n",
      "9960.00        1\n",
      "27376.00       1\n",
      "Name: count, Length: 4785, dtype: int64\n",
      "Column: verification_status\n",
      "verification_status\n",
      "Not Verified       16253\n",
      "Verified           11209\n",
      "Source Verified     9144\n",
      "Name: count, dtype: int64\n",
      "Column: issue_d\n",
      "issue_d\n",
      "Dec-11    1967\n",
      "Nov-11    1959\n",
      "Oct-11    1809\n",
      "Sep-11    1790\n",
      "Aug-11    1700\n",
      "Jul-11    1649\n",
      "Jun-11    1616\n",
      "May-11    1528\n",
      "Apr-11    1496\n",
      "Mar-11    1361\n",
      "Jan-11    1321\n",
      "Feb-11    1241\n",
      "Dec-10    1209\n",
      "Jul-10    1083\n",
      "Nov-10    1076\n",
      "Oct-10    1071\n",
      "Sep-10    1030\n",
      "Aug-10    1026\n",
      "Jun-10     982\n",
      "May-10     886\n",
      "Apr-10     791\n",
      "Mar-10     697\n",
      "Feb-10     591\n",
      "Nov-09     568\n",
      "Jan-10     552\n",
      "Dec-09     552\n",
      "Oct-09     513\n",
      "Sep-09     426\n",
      "Aug-09     391\n",
      "Jul-09     354\n",
      "Jun-09     336\n",
      "May-09     305\n",
      "Apr-09     278\n",
      "Mar-09     266\n",
      "Feb-09     249\n",
      "Jan-09     226\n",
      "Mar-08     220\n",
      "Dec-08     206\n",
      "Nov-08     179\n",
      "Feb-08     168\n",
      "Jan-08     164\n",
      "Apr-08     146\n",
      "Oct-08      89\n",
      "Dec-07      82\n",
      "Jul-08      80\n",
      "May-08      69\n",
      "Aug-08      66\n",
      "Jun-08      65\n",
      "Oct-07      46\n",
      "Nov-07      34\n",
      "Sep-08      29\n",
      "Aug-07      28\n",
      "Jul-07      24\n",
      "Sep-07      15\n",
      "Jun-07       1\n",
      "Name: count, dtype: int64\n",
      "Column: loan_status\n",
      "loan_status\n",
      "Fully Paid     31204\n",
      "Charged Off     5402\n",
      "Name: count, dtype: int64\n",
      "Column: purpose\n",
      "purpose\n",
      "debt_consolidation    17293\n",
      "credit_card            4782\n",
      "other                  3686\n",
      "home_improvement       2551\n",
      "major_purchase         2041\n",
      "small_business         1622\n",
      "car                    1446\n",
      "wedding                 892\n",
      "medical                 639\n",
      "moving                  548\n",
      "vacation                364\n",
      "house                   338\n",
      "educational             309\n",
      "renewable_energy         95\n",
      "Name: count, dtype: int64\n",
      "Column: addr_state\n",
      "addr_state\n",
      "CA    6554\n",
      "NY    3464\n",
      "FL    2651\n",
      "TX    2472\n",
      "NJ    1667\n",
      "PA    1418\n",
      "IL    1405\n",
      "VA    1308\n",
      "GA    1288\n",
      "MA    1208\n",
      "OH    1143\n",
      "MD     964\n",
      "AZ     808\n",
      "WA     783\n",
      "CO     741\n",
      "NC     718\n",
      "MI     682\n",
      "CT     672\n",
      "MO     646\n",
      "MN     586\n",
      "NV     456\n",
      "SC     441\n",
      "OR     427\n",
      "AL     422\n",
      "WI     421\n",
      "LA     401\n",
      "KY     304\n",
      "OK     281\n",
      "KS     244\n",
      "UT     242\n",
      "AR     228\n",
      "DC     194\n",
      "RI     186\n",
      "NM     177\n",
      "WV     169\n",
      "HI     159\n",
      "NH     157\n",
      "DE     108\n",
      "MT      83\n",
      "WY      80\n",
      "AK      71\n",
      "SD      61\n",
      "VT      53\n",
      "MS      19\n",
      "TN      17\n",
      "IN       9\n",
      "IA       5\n",
      "NE       5\n",
      "ID       5\n",
      "ME       3\n",
      "Name: count, dtype: int64\n",
      "Column: dti\n",
      "dti\n",
      "0.00     163\n",
      "18.00     44\n",
      "12.00     42\n",
      "19.20     39\n",
      "13.20     38\n",
      "        ... \n",
      "28.41      1\n",
      "26.46      1\n",
      "27.69      1\n",
      "26.61      1\n",
      "25.43      1\n",
      "Name: count, Length: 2848, dtype: int64\n",
      "Column: earliest_cr_line\n",
      "earliest_cr_line\n",
      "Oct-99    352\n",
      "Nov-98    338\n",
      "Dec-98    331\n",
      "Oct-00    328\n",
      "Nov-00    304\n",
      "         ... \n",
      "Jun-67      1\n",
      "Aug-67      1\n",
      "Oct-54      1\n",
      "Dec-63      1\n",
      "Oct-74      1\n",
      "Name: count, Length: 522, dtype: int64\n",
      "Column: inq_last_6mths\n",
      "inq_last_6mths\n",
      "0    17839\n",
      "1    10122\n",
      "2     5330\n",
      "3     2792\n",
      "4      291\n",
      "5      134\n",
      "6       56\n",
      "7       32\n",
      "8       10\n",
      "Name: count, dtype: int64\n",
      "Column: open_acc\n",
      "open_acc\n",
      "7     3773\n",
      "6     3708\n",
      "8     3663\n",
      "9     3445\n",
      "5     3023\n",
      "10    2928\n",
      "11    2491\n",
      "4     2249\n",
      "12    2045\n",
      "13    1720\n",
      "3     1431\n",
      "14    1328\n",
      "15    1051\n",
      "16     818\n",
      "17     643\n",
      "2      575\n",
      "18     466\n",
      "19     342\n",
      "20     249\n",
      "21     217\n",
      "22     129\n",
      "23      81\n",
      "24      64\n",
      "25      52\n",
      "26      27\n",
      "28      21\n",
      "27      21\n",
      "30      11\n",
      "29       8\n",
      "31       6\n",
      "34       5\n",
      "32       3\n",
      "33       3\n",
      "35       3\n",
      "36       2\n",
      "39       1\n",
      "38       1\n",
      "44       1\n",
      "41       1\n",
      "42       1\n",
      "Name: count, dtype: int64\n",
      "Column: pub_rec\n",
      "pub_rec\n",
      "0    34589\n",
      "1     1963\n",
      "2       46\n",
      "3        6\n",
      "4        2\n",
      "Name: count, dtype: int64\n",
      "Column: revol_util\n",
      "revol_util\n",
      "0        886\n",
      "63        61\n",
      "0.20      60\n",
      "66.70     56\n",
      "46.40     55\n",
      "        ... \n",
      "0.54       1\n",
      "77.63      1\n",
      "25.74      1\n",
      "0.83       1\n",
      "7.28       1\n",
      "Name: count, Length: 1082, dtype: int64\n",
      "Column: total_acc\n",
      "total_acc\n",
      "15    1383\n",
      "16    1376\n",
      "14    1368\n",
      "17    1360\n",
      "20    1341\n",
      "      ... \n",
      "79       1\n",
      "87       1\n",
      "74       1\n",
      "78       1\n",
      "80       1\n",
      "Name: count, Length: 81, dtype: int64\n"
     ]
    }
   ],
   "source": [
    "# now checking & analyze 57 columns.\n",
    "for col in df.columns:\n",
    "    print(\"Column: {0}\".format(col))\n",
    "    print(df[col].value_counts())"
   ]
  },
  {
   "cell_type": "code",
   "execution_count": 150,
   "id": "16176d44",
   "metadata": {},
   "outputs": [],
   "source": [
    "# still we have columns does not contribute to loan defaulting.so, dropping these columns also\n",
    "df.drop(['pymnt_plan', 'initial_list_status','collections_12_mths_ex_med','acc_now_delinq', 'pub_rec_bankruptcies', 'tax_liens', 'delinq_amnt','policy_code','application_type','id', 'member_id', 'url', 'title', 'emp_title', 'zip_code', 'last_credit_pull_d','desc','out_prncp_inv','total_pymnt_inv','funded_amnt', 'delinq_2yrs', 'revol_bal', 'out_prncp', 'total_pymnt', 'total_rec_prncp', 'total_rec_int', 'total_rec_late_fee', 'recoveries', 'collection_recovery_fee', 'last_pymnt_d', 'last_pymnt_amnt', 'next_pymnt_d' , 'chargeoff_within_12_mths', 'mths_since_last_delinq', 'mths_since_last_record'], axis = 1, inplace = True)"
   ]
  },
  {
   "cell_type": "code",
   "execution_count": 151,
   "id": "00387300",
   "metadata": {},
   "outputs": [
    {
     "data": {
      "text/html": [
       "<div>\n",
       "<style scoped>\n",
       "    .dataframe tbody tr th:only-of-type {\n",
       "        vertical-align: middle;\n",
       "    }\n",
       "\n",
       "    .dataframe tbody tr th {\n",
       "        vertical-align: top;\n",
       "    }\n",
       "\n",
       "    .dataframe thead th {\n",
       "        text-align: right;\n",
       "    }\n",
       "</style>\n",
       "<table border=\"1\" class=\"dataframe\">\n",
       "  <thead>\n",
       "    <tr style=\"text-align: right;\">\n",
       "      <th></th>\n",
       "      <th>loan_amnt</th>\n",
       "      <th>funded_amnt_inv</th>\n",
       "      <th>term</th>\n",
       "      <th>int_rate</th>\n",
       "      <th>installment</th>\n",
       "      <th>grade</th>\n",
       "      <th>sub_grade</th>\n",
       "      <th>emp_length</th>\n",
       "      <th>home_ownership</th>\n",
       "      <th>annual_inc</th>\n",
       "      <th>...</th>\n",
       "      <th>loan_status</th>\n",
       "      <th>purpose</th>\n",
       "      <th>addr_state</th>\n",
       "      <th>dti</th>\n",
       "      <th>earliest_cr_line</th>\n",
       "      <th>inq_last_6mths</th>\n",
       "      <th>open_acc</th>\n",
       "      <th>pub_rec</th>\n",
       "      <th>revol_util</th>\n",
       "      <th>total_acc</th>\n",
       "    </tr>\n",
       "  </thead>\n",
       "  <tbody>\n",
       "    <tr>\n",
       "      <th>0</th>\n",
       "      <td>5000</td>\n",
       "      <td>4975.0</td>\n",
       "      <td>36 months</td>\n",
       "      <td>10.65%</td>\n",
       "      <td>162.87</td>\n",
       "      <td>B</td>\n",
       "      <td>B2</td>\n",
       "      <td>10+ years</td>\n",
       "      <td>RENT</td>\n",
       "      <td>24000.0</td>\n",
       "      <td>...</td>\n",
       "      <td>Fully Paid</td>\n",
       "      <td>credit_card</td>\n",
       "      <td>AZ</td>\n",
       "      <td>27.65</td>\n",
       "      <td>Jan-85</td>\n",
       "      <td>1</td>\n",
       "      <td>3</td>\n",
       "      <td>0</td>\n",
       "      <td>83.70%</td>\n",
       "      <td>9</td>\n",
       "    </tr>\n",
       "    <tr>\n",
       "      <th>1</th>\n",
       "      <td>2500</td>\n",
       "      <td>2500.0</td>\n",
       "      <td>60 months</td>\n",
       "      <td>15.27%</td>\n",
       "      <td>59.83</td>\n",
       "      <td>C</td>\n",
       "      <td>C4</td>\n",
       "      <td>&lt; 1 year</td>\n",
       "      <td>RENT</td>\n",
       "      <td>30000.0</td>\n",
       "      <td>...</td>\n",
       "      <td>Charged Off</td>\n",
       "      <td>car</td>\n",
       "      <td>GA</td>\n",
       "      <td>1.00</td>\n",
       "      <td>Apr-99</td>\n",
       "      <td>5</td>\n",
       "      <td>3</td>\n",
       "      <td>0</td>\n",
       "      <td>9.40%</td>\n",
       "      <td>4</td>\n",
       "    </tr>\n",
       "    <tr>\n",
       "      <th>2</th>\n",
       "      <td>2400</td>\n",
       "      <td>2400.0</td>\n",
       "      <td>36 months</td>\n",
       "      <td>15.96%</td>\n",
       "      <td>84.33</td>\n",
       "      <td>C</td>\n",
       "      <td>C5</td>\n",
       "      <td>10+ years</td>\n",
       "      <td>RENT</td>\n",
       "      <td>12252.0</td>\n",
       "      <td>...</td>\n",
       "      <td>Fully Paid</td>\n",
       "      <td>small_business</td>\n",
       "      <td>IL</td>\n",
       "      <td>8.72</td>\n",
       "      <td>Nov-01</td>\n",
       "      <td>2</td>\n",
       "      <td>2</td>\n",
       "      <td>0</td>\n",
       "      <td>98.50%</td>\n",
       "      <td>10</td>\n",
       "    </tr>\n",
       "    <tr>\n",
       "      <th>3</th>\n",
       "      <td>10000</td>\n",
       "      <td>10000.0</td>\n",
       "      <td>36 months</td>\n",
       "      <td>13.49%</td>\n",
       "      <td>339.31</td>\n",
       "      <td>C</td>\n",
       "      <td>C1</td>\n",
       "      <td>10+ years</td>\n",
       "      <td>RENT</td>\n",
       "      <td>49200.0</td>\n",
       "      <td>...</td>\n",
       "      <td>Fully Paid</td>\n",
       "      <td>other</td>\n",
       "      <td>CA</td>\n",
       "      <td>20.00</td>\n",
       "      <td>Feb-96</td>\n",
       "      <td>1</td>\n",
       "      <td>10</td>\n",
       "      <td>0</td>\n",
       "      <td>21%</td>\n",
       "      <td>37</td>\n",
       "    </tr>\n",
       "    <tr>\n",
       "      <th>4</th>\n",
       "      <td>3000</td>\n",
       "      <td>3000.0</td>\n",
       "      <td>60 months</td>\n",
       "      <td>12.69%</td>\n",
       "      <td>67.79</td>\n",
       "      <td>B</td>\n",
       "      <td>B5</td>\n",
       "      <td>1 year</td>\n",
       "      <td>RENT</td>\n",
       "      <td>80000.0</td>\n",
       "      <td>...</td>\n",
       "      <td>Current</td>\n",
       "      <td>other</td>\n",
       "      <td>OR</td>\n",
       "      <td>17.94</td>\n",
       "      <td>Jan-96</td>\n",
       "      <td>0</td>\n",
       "      <td>15</td>\n",
       "      <td>0</td>\n",
       "      <td>53.90%</td>\n",
       "      <td>38</td>\n",
       "    </tr>\n",
       "  </tbody>\n",
       "</table>\n",
       "<p>5 rows × 22 columns</p>\n",
       "</div>"
      ],
      "text/plain": [
       "   loan_amnt  funded_amnt_inv        term int_rate  installment grade  \\\n",
       "0       5000           4975.0   36 months   10.65%       162.87     B   \n",
       "1       2500           2500.0   60 months   15.27%        59.83     C   \n",
       "2       2400           2400.0   36 months   15.96%        84.33     C   \n",
       "3      10000          10000.0   36 months   13.49%       339.31     C   \n",
       "4       3000           3000.0   60 months   12.69%        67.79     B   \n",
       "\n",
       "  sub_grade emp_length home_ownership  annual_inc  ...  loan_status  \\\n",
       "0        B2  10+ years           RENT     24000.0  ...   Fully Paid   \n",
       "1        C4   < 1 year           RENT     30000.0  ...  Charged Off   \n",
       "2        C5  10+ years           RENT     12252.0  ...   Fully Paid   \n",
       "3        C1  10+ years           RENT     49200.0  ...   Fully Paid   \n",
       "4        B5     1 year           RENT     80000.0  ...      Current   \n",
       "\n",
       "          purpose addr_state    dti earliest_cr_line  inq_last_6mths open_acc  \\\n",
       "0     credit_card         AZ  27.65           Jan-85               1        3   \n",
       "1             car         GA   1.00           Apr-99               5        3   \n",
       "2  small_business         IL   8.72           Nov-01               2        2   \n",
       "3           other         CA  20.00           Feb-96               1       10   \n",
       "4           other         OR  17.94           Jan-96               0       15   \n",
       "\n",
       "   pub_rec  revol_util  total_acc  \n",
       "0        0      83.70%          9  \n",
       "1        0       9.40%          4  \n",
       "2        0      98.50%         10  \n",
       "3        0         21%         37  \n",
       "4        0      53.90%         38  \n",
       "\n",
       "[5 rows x 22 columns]"
      ]
     },
     "execution_count": 151,
     "metadata": {},
     "output_type": "execute_result"
    }
   ],
   "source": [
    "df.head()"
   ]
  },
  {
   "cell_type": "code",
   "execution_count": 152,
   "id": "027b543c",
   "metadata": {},
   "outputs": [
    {
     "name": "stdout",
     "output_type": "stream",
     "text": [
      "<class 'pandas.core.frame.DataFrame'>\n",
      "RangeIndex: 39717 entries, 0 to 39716\n",
      "Data columns (total 22 columns):\n",
      " #   Column               Non-Null Count  Dtype  \n",
      "---  ------               --------------  -----  \n",
      " 0   loan_amnt            39717 non-null  int64  \n",
      " 1   funded_amnt_inv      39717 non-null  float64\n",
      " 2   term                 39717 non-null  object \n",
      " 3   int_rate             39717 non-null  object \n",
      " 4   installment          39717 non-null  float64\n",
      " 5   grade                39717 non-null  object \n",
      " 6   sub_grade            39717 non-null  object \n",
      " 7   emp_length           38642 non-null  object \n",
      " 8   home_ownership       39717 non-null  object \n",
      " 9   annual_inc           39717 non-null  float64\n",
      " 10  verification_status  39717 non-null  object \n",
      " 11  issue_d              39717 non-null  object \n",
      " 12  loan_status          39717 non-null  object \n",
      " 13  purpose              39717 non-null  object \n",
      " 14  addr_state           39717 non-null  object \n",
      " 15  dti                  39717 non-null  float64\n",
      " 16  earliest_cr_line     39717 non-null  object \n",
      " 17  inq_last_6mths       39717 non-null  int64  \n",
      " 18  open_acc             39717 non-null  int64  \n",
      " 19  pub_rec              39717 non-null  int64  \n",
      " 20  revol_util           39667 non-null  object \n",
      " 21  total_acc            39717 non-null  int64  \n",
      "dtypes: float64(4), int64(5), object(13)\n",
      "memory usage: 6.7+ MB\n"
     ]
    }
   ],
   "source": [
    "# removing missing values\n",
    "df.info()"
   ]
  },
  {
   "cell_type": "code",
   "execution_count": 153,
   "id": "30cb9657",
   "metadata": {},
   "outputs": [],
   "source": [
    "# we have found two columns emp_length & revol_util having null values in rows\n",
    "df.emp_length.fillna(df.emp_length.mode()[0],inplace = True)\n",
    "df.dropna(axis = 0, subset = ['revol_util'] , inplace = True)"
   ]
  },
  {
   "cell_type": "code",
   "execution_count": 154,
   "id": "1f6851aa",
   "metadata": {},
   "outputs": [
    {
     "data": {
      "text/html": [
       "<div>\n",
       "<style scoped>\n",
       "    .dataframe tbody tr th:only-of-type {\n",
       "        vertical-align: middle;\n",
       "    }\n",
       "\n",
       "    .dataframe tbody tr th {\n",
       "        vertical-align: top;\n",
       "    }\n",
       "\n",
       "    .dataframe thead th {\n",
       "        text-align: right;\n",
       "    }\n",
       "</style>\n",
       "<table border=\"1\" class=\"dataframe\">\n",
       "  <thead>\n",
       "    <tr style=\"text-align: right;\">\n",
       "      <th></th>\n",
       "      <th>loan_amnt</th>\n",
       "      <th>funded_amnt_inv</th>\n",
       "      <th>term</th>\n",
       "      <th>int_rate</th>\n",
       "      <th>installment</th>\n",
       "      <th>grade</th>\n",
       "      <th>sub_grade</th>\n",
       "      <th>emp_length</th>\n",
       "      <th>home_ownership</th>\n",
       "      <th>annual_inc</th>\n",
       "      <th>...</th>\n",
       "      <th>loan_status</th>\n",
       "      <th>purpose</th>\n",
       "      <th>addr_state</th>\n",
       "      <th>dti</th>\n",
       "      <th>earliest_cr_line</th>\n",
       "      <th>inq_last_6mths</th>\n",
       "      <th>open_acc</th>\n",
       "      <th>pub_rec</th>\n",
       "      <th>revol_util</th>\n",
       "      <th>total_acc</th>\n",
       "    </tr>\n",
       "  </thead>\n",
       "  <tbody>\n",
       "    <tr>\n",
       "      <th>0</th>\n",
       "      <td>5000</td>\n",
       "      <td>4975.0</td>\n",
       "      <td>36</td>\n",
       "      <td>10.65</td>\n",
       "      <td>162.87</td>\n",
       "      <td>B</td>\n",
       "      <td>B2</td>\n",
       "      <td>10</td>\n",
       "      <td>RENT</td>\n",
       "      <td>24000.0</td>\n",
       "      <td>...</td>\n",
       "      <td>Fully Paid</td>\n",
       "      <td>credit_card</td>\n",
       "      <td>AZ</td>\n",
       "      <td>27.65</td>\n",
       "      <td>Jan-85</td>\n",
       "      <td>1</td>\n",
       "      <td>3</td>\n",
       "      <td>0</td>\n",
       "      <td>83.70</td>\n",
       "      <td>9</td>\n",
       "    </tr>\n",
       "    <tr>\n",
       "      <th>1</th>\n",
       "      <td>2500</td>\n",
       "      <td>2500.0</td>\n",
       "      <td>60</td>\n",
       "      <td>15.27</td>\n",
       "      <td>59.83</td>\n",
       "      <td>C</td>\n",
       "      <td>C4</td>\n",
       "      <td>0</td>\n",
       "      <td>RENT</td>\n",
       "      <td>30000.0</td>\n",
       "      <td>...</td>\n",
       "      <td>Charged Off</td>\n",
       "      <td>car</td>\n",
       "      <td>GA</td>\n",
       "      <td>1.00</td>\n",
       "      <td>Apr-99</td>\n",
       "      <td>5</td>\n",
       "      <td>3</td>\n",
       "      <td>0</td>\n",
       "      <td>9.40</td>\n",
       "      <td>4</td>\n",
       "    </tr>\n",
       "    <tr>\n",
       "      <th>2</th>\n",
       "      <td>2400</td>\n",
       "      <td>2400.0</td>\n",
       "      <td>36</td>\n",
       "      <td>15.96</td>\n",
       "      <td>84.33</td>\n",
       "      <td>C</td>\n",
       "      <td>C5</td>\n",
       "      <td>10</td>\n",
       "      <td>RENT</td>\n",
       "      <td>12252.0</td>\n",
       "      <td>...</td>\n",
       "      <td>Fully Paid</td>\n",
       "      <td>small_business</td>\n",
       "      <td>IL</td>\n",
       "      <td>8.72</td>\n",
       "      <td>Nov-01</td>\n",
       "      <td>2</td>\n",
       "      <td>2</td>\n",
       "      <td>0</td>\n",
       "      <td>98.50</td>\n",
       "      <td>10</td>\n",
       "    </tr>\n",
       "    <tr>\n",
       "      <th>3</th>\n",
       "      <td>10000</td>\n",
       "      <td>10000.0</td>\n",
       "      <td>36</td>\n",
       "      <td>13.49</td>\n",
       "      <td>339.31</td>\n",
       "      <td>C</td>\n",
       "      <td>C1</td>\n",
       "      <td>10</td>\n",
       "      <td>RENT</td>\n",
       "      <td>49200.0</td>\n",
       "      <td>...</td>\n",
       "      <td>Fully Paid</td>\n",
       "      <td>other</td>\n",
       "      <td>CA</td>\n",
       "      <td>20.00</td>\n",
       "      <td>Feb-96</td>\n",
       "      <td>1</td>\n",
       "      <td>10</td>\n",
       "      <td>0</td>\n",
       "      <td>21</td>\n",
       "      <td>37</td>\n",
       "    </tr>\n",
       "    <tr>\n",
       "      <th>4</th>\n",
       "      <td>3000</td>\n",
       "      <td>3000.0</td>\n",
       "      <td>60</td>\n",
       "      <td>12.69</td>\n",
       "      <td>67.79</td>\n",
       "      <td>B</td>\n",
       "      <td>B5</td>\n",
       "      <td>1</td>\n",
       "      <td>RENT</td>\n",
       "      <td>80000.0</td>\n",
       "      <td>...</td>\n",
       "      <td>Current</td>\n",
       "      <td>other</td>\n",
       "      <td>OR</td>\n",
       "      <td>17.94</td>\n",
       "      <td>Jan-96</td>\n",
       "      <td>0</td>\n",
       "      <td>15</td>\n",
       "      <td>0</td>\n",
       "      <td>53.90</td>\n",
       "      <td>38</td>\n",
       "    </tr>\n",
       "  </tbody>\n",
       "</table>\n",
       "<p>5 rows × 22 columns</p>\n",
       "</div>"
      ],
      "text/plain": [
       "   loan_amnt  funded_amnt_inv  term int_rate  installment grade sub_grade  \\\n",
       "0       5000           4975.0   36     10.65       162.87     B        B2   \n",
       "1       2500           2500.0   60     15.27        59.83     C        C4   \n",
       "2       2400           2400.0   36     15.96        84.33     C        C5   \n",
       "3      10000          10000.0   36     13.49       339.31     C        C1   \n",
       "4       3000           3000.0   60     12.69        67.79     B        B5   \n",
       "\n",
       "  emp_length home_ownership  annual_inc  ...  loan_status         purpose  \\\n",
       "0         10           RENT     24000.0  ...   Fully Paid     credit_card   \n",
       "1          0           RENT     30000.0  ...  Charged Off             car   \n",
       "2         10           RENT     12252.0  ...   Fully Paid  small_business   \n",
       "3         10           RENT     49200.0  ...   Fully Paid           other   \n",
       "4          1           RENT     80000.0  ...      Current           other   \n",
       "\n",
       "  addr_state    dti earliest_cr_line  inq_last_6mths open_acc  pub_rec  \\\n",
       "0         AZ  27.65           Jan-85               1        3        0   \n",
       "1         GA   1.00           Apr-99               5        3        0   \n",
       "2         IL   8.72           Nov-01               2        2        0   \n",
       "3         CA  20.00           Feb-96               1       10        0   \n",
       "4         OR  17.94           Jan-96               0       15        0   \n",
       "\n",
       "   revol_util  total_acc  \n",
       "0       83.70          9  \n",
       "1        9.40          4  \n",
       "2       98.50         10  \n",
       "3          21         37  \n",
       "4       53.90         38  \n",
       "\n",
       "[5 rows x 22 columns]"
      ]
     },
     "execution_count": 154,
     "metadata": {},
     "output_type": "execute_result"
    }
   ],
   "source": [
    "# We have analyzed four columns term,int_rate,emp_length and revol_util haivng data that we need standardized\n",
    "df.term=df.term.apply(lambda x : x[0:-6])\n",
    "df.int_rate=df.int_rate.apply(lambda x : x[0:-1])\n",
    "df.revol_util=df.revol_util.apply(lambda x : x[0:-1])\n",
    "df.emp_length=df.emp_length.apply(lambda x : 0 if \"<\" in x else (x.split('+')[0] if \"+\" in x else x.split()[0]))\n",
    "df.head()"
   ]
  },
  {
   "cell_type": "code",
   "execution_count": 62,
   "id": "38f53252",
   "metadata": {
    "scrolled": true
   },
   "outputs": [
    {
     "data": {
      "text/html": [
       "<div>\n",
       "<style scoped>\n",
       "    .dataframe tbody tr th:only-of-type {\n",
       "        vertical-align: middle;\n",
       "    }\n",
       "\n",
       "    .dataframe tbody tr th {\n",
       "        vertical-align: top;\n",
       "    }\n",
       "\n",
       "    .dataframe thead th {\n",
       "        text-align: right;\n",
       "    }\n",
       "</style>\n",
       "<table border=\"1\" class=\"dataframe\">\n",
       "  <thead>\n",
       "    <tr style=\"text-align: right;\">\n",
       "      <th></th>\n",
       "      <th>loan_amnt</th>\n",
       "      <th>funded_amnt_inv</th>\n",
       "      <th>term</th>\n",
       "      <th>int_rate</th>\n",
       "      <th>installment</th>\n",
       "      <th>grade</th>\n",
       "      <th>sub_grade</th>\n",
       "      <th>emp_length</th>\n",
       "      <th>home_ownership</th>\n",
       "      <th>annual_inc</th>\n",
       "      <th>...</th>\n",
       "      <th>loan_status</th>\n",
       "      <th>purpose</th>\n",
       "      <th>addr_state</th>\n",
       "      <th>dti</th>\n",
       "      <th>earliest_cr_line</th>\n",
       "      <th>inq_last_6mths</th>\n",
       "      <th>open_acc</th>\n",
       "      <th>pub_rec</th>\n",
       "      <th>revol_util</th>\n",
       "      <th>total_acc</th>\n",
       "    </tr>\n",
       "  </thead>\n",
       "  <tbody>\n",
       "    <tr>\n",
       "      <th>0</th>\n",
       "      <td>5000</td>\n",
       "      <td>4975.0</td>\n",
       "      <td>36</td>\n",
       "      <td>10.65</td>\n",
       "      <td>162.87</td>\n",
       "      <td>B</td>\n",
       "      <td>B2</td>\n",
       "      <td>10</td>\n",
       "      <td>RENT</td>\n",
       "      <td>24000.0</td>\n",
       "      <td>...</td>\n",
       "      <td>Fully Paid</td>\n",
       "      <td>credit_card</td>\n",
       "      <td>AZ</td>\n",
       "      <td>27.65</td>\n",
       "      <td>Jan-85</td>\n",
       "      <td>1</td>\n",
       "      <td>3</td>\n",
       "      <td>0</td>\n",
       "      <td>83.70</td>\n",
       "      <td>9</td>\n",
       "    </tr>\n",
       "    <tr>\n",
       "      <th>1</th>\n",
       "      <td>2500</td>\n",
       "      <td>2500.0</td>\n",
       "      <td>60</td>\n",
       "      <td>15.27</td>\n",
       "      <td>59.83</td>\n",
       "      <td>C</td>\n",
       "      <td>C4</td>\n",
       "      <td>0</td>\n",
       "      <td>RENT</td>\n",
       "      <td>30000.0</td>\n",
       "      <td>...</td>\n",
       "      <td>Charged Off</td>\n",
       "      <td>car</td>\n",
       "      <td>GA</td>\n",
       "      <td>1.00</td>\n",
       "      <td>Apr-99</td>\n",
       "      <td>5</td>\n",
       "      <td>3</td>\n",
       "      <td>0</td>\n",
       "      <td>9.40</td>\n",
       "      <td>4</td>\n",
       "    </tr>\n",
       "    <tr>\n",
       "      <th>2</th>\n",
       "      <td>2400</td>\n",
       "      <td>2400.0</td>\n",
       "      <td>36</td>\n",
       "      <td>15.96</td>\n",
       "      <td>84.33</td>\n",
       "      <td>C</td>\n",
       "      <td>C5</td>\n",
       "      <td>10</td>\n",
       "      <td>RENT</td>\n",
       "      <td>12252.0</td>\n",
       "      <td>...</td>\n",
       "      <td>Fully Paid</td>\n",
       "      <td>small_business</td>\n",
       "      <td>IL</td>\n",
       "      <td>8.72</td>\n",
       "      <td>Nov-01</td>\n",
       "      <td>2</td>\n",
       "      <td>2</td>\n",
       "      <td>0</td>\n",
       "      <td>98.50</td>\n",
       "      <td>10</td>\n",
       "    </tr>\n",
       "    <tr>\n",
       "      <th>3</th>\n",
       "      <td>10000</td>\n",
       "      <td>10000.0</td>\n",
       "      <td>36</td>\n",
       "      <td>13.49</td>\n",
       "      <td>339.31</td>\n",
       "      <td>C</td>\n",
       "      <td>C1</td>\n",
       "      <td>10</td>\n",
       "      <td>RENT</td>\n",
       "      <td>49200.0</td>\n",
       "      <td>...</td>\n",
       "      <td>Fully Paid</td>\n",
       "      <td>other</td>\n",
       "      <td>CA</td>\n",
       "      <td>20.00</td>\n",
       "      <td>Feb-96</td>\n",
       "      <td>1</td>\n",
       "      <td>10</td>\n",
       "      <td>0</td>\n",
       "      <td>21</td>\n",
       "      <td>37</td>\n",
       "    </tr>\n",
       "    <tr>\n",
       "      <th>4</th>\n",
       "      <td>3000</td>\n",
       "      <td>3000.0</td>\n",
       "      <td>60</td>\n",
       "      <td>12.69</td>\n",
       "      <td>67.79</td>\n",
       "      <td>B</td>\n",
       "      <td>B5</td>\n",
       "      <td>1</td>\n",
       "      <td>RENT</td>\n",
       "      <td>80000.0</td>\n",
       "      <td>...</td>\n",
       "      <td>Current</td>\n",
       "      <td>other</td>\n",
       "      <td>OR</td>\n",
       "      <td>17.94</td>\n",
       "      <td>Jan-96</td>\n",
       "      <td>0</td>\n",
       "      <td>15</td>\n",
       "      <td>0</td>\n",
       "      <td>53.90</td>\n",
       "      <td>38</td>\n",
       "    </tr>\n",
       "  </tbody>\n",
       "</table>\n",
       "<p>5 rows × 22 columns</p>\n",
       "</div>"
      ],
      "text/plain": [
       "   loan_amnt  funded_amnt_inv  term int_rate  installment grade sub_grade  \\\n",
       "0       5000           4975.0   36     10.65       162.87     B        B2   \n",
       "1       2500           2500.0   60     15.27        59.83     C        C4   \n",
       "2       2400           2400.0   36     15.96        84.33     C        C5   \n",
       "3      10000          10000.0   36     13.49       339.31     C        C1   \n",
       "4       3000           3000.0   60     12.69        67.79     B        B5   \n",
       "\n",
       "  emp_length home_ownership  annual_inc  ...  loan_status         purpose  \\\n",
       "0         10           RENT     24000.0  ...   Fully Paid     credit_card   \n",
       "1          0           RENT     30000.0  ...  Charged Off             car   \n",
       "2         10           RENT     12252.0  ...   Fully Paid  small_business   \n",
       "3         10           RENT     49200.0  ...   Fully Paid           other   \n",
       "4          1           RENT     80000.0  ...      Current           other   \n",
       "\n",
       "  addr_state    dti earliest_cr_line  inq_last_6mths open_acc  pub_rec  \\\n",
       "0         AZ  27.65           Jan-85               1        3        0   \n",
       "1         GA   1.00           Apr-99               5        3        0   \n",
       "2         IL   8.72           Nov-01               2        2        0   \n",
       "3         CA  20.00           Feb-96               1       10        0   \n",
       "4         OR  17.94           Jan-96               0       15        0   \n",
       "\n",
       "   revol_util  total_acc  \n",
       "0       83.70          9  \n",
       "1        9.40          4  \n",
       "2       98.50         10  \n",
       "3          21         37  \n",
       "4       53.90         38  \n",
       "\n",
       "[5 rows x 22 columns]"
      ]
     },
     "execution_count": 62,
     "metadata": {},
     "output_type": "execute_result"
    }
   ],
   "source": []
  },
  {
   "cell_type": "code",
   "execution_count": 156,
   "id": "b7710f42",
   "metadata": {},
   "outputs": [],
   "source": [
    "# we have to analyze chance for default of loan so  \n",
    "df = df[df.loan_status != \"Current\"]"
   ]
  },
  {
   "cell_type": "code",
   "execution_count": 157,
   "id": "72461e77",
   "metadata": {},
   "outputs": [
    {
     "data": {
      "text/plain": [
       "array(['Fully Paid', 'Charged Off'], dtype=object)"
      ]
     },
     "execution_count": 157,
     "metadata": {},
     "output_type": "execute_result"
    }
   ],
   "source": [
    "df.loan_status.unique()"
   ]
  },
  {
   "cell_type": "code",
   "execution_count": 66,
   "id": "b01ae9b8",
   "metadata": {},
   "outputs": [
    {
     "data": {
      "text/plain": [
       "loan_amnt              0\n",
       "funded_amnt_inv        0\n",
       "term                   0\n",
       "int_rate               0\n",
       "installment            0\n",
       "grade                  0\n",
       "sub_grade              0\n",
       "emp_length             0\n",
       "home_ownership         0\n",
       "annual_inc             0\n",
       "verification_status    0\n",
       "issue_d                0\n",
       "loan_status            0\n",
       "purpose                0\n",
       "addr_state             0\n",
       "dti                    0\n",
       "earliest_cr_line       0\n",
       "inq_last_6mths         0\n",
       "open_acc               0\n",
       "pub_rec                0\n",
       "revol_util             0\n",
       "total_acc              0\n",
       "dtype: int64"
      ]
     },
     "execution_count": 66,
     "metadata": {},
     "output_type": "execute_result"
    }
   ],
   "source": [
    "df.isnull().sum()"
   ]
  },
  {
   "cell_type": "code",
   "execution_count": 73,
   "id": "e816a16f",
   "metadata": {},
   "outputs": [
    {
     "data": {
      "image/png": "[encoded data removed]",
      "text/plain": [
       "<Figure size 640x480 with 1 Axes>"
      ]
     },
     "metadata": {},
     "output_type": "display_data"
    }
   ],
   "source": [
    "# check for Outlier\n",
    "plt.boxplot(df['annual_inc'])\n",
    "plt.show()"
   ]
  },
  {
   "cell_type": "code",
   "execution_count": 75,
   "id": "779ec934",
   "metadata": {},
   "outputs": [
    {
     "data": {
      "text/plain": [
       "0.25     40000.0\n",
       "0.50     59000.0\n",
       "0.75     82000.0\n",
       "0.90    115000.0\n",
       "0.95    140004.0\n",
       "0.97    165000.0\n",
       "0.98    187000.0\n",
       "0.99    234000.0\n",
       "Name: annual_inc, dtype: float64"
      ]
     },
     "execution_count": 75,
     "metadata": {},
     "output_type": "execute_result"
    }
   ],
   "source": [
    "annual_inc_quantile = df.annual_inc.quantile([0.25,0.50,0.75,0.90, 0.95, 0.97,0.98, 0.99])\n",
    "annual_inc_quantile"
   ]
  },
  {
   "cell_type": "code",
   "execution_count": 76,
   "id": "551e5abf",
   "metadata": {},
   "outputs": [],
   "source": [
    "quantile_annual_inc_for_95 = df['annual_inc'].quantile(0.95)\n",
    "df = df[df.annual_inc <= quantile_annual_inc_for_95]"
   ]
  },
  {
   "cell_type": "code",
   "execution_count": 91,
   "id": "7bde5c6f",
   "metadata": {},
   "outputs": [
    {
     "data": {
      "text/plain": [
       "<Axes: >"
      ]
     },
     "execution_count": 91,
     "metadata": {},
     "output_type": "execute_result"
    },
    {
     "data": {
      "image/png": "[encoded data removed]",
      "text/plain": [
       "<Figure size 640x480 with 1 Axes>"
      ]
     },
     "metadata": {},
     "output_type": "display_data"
    }
   ],
   "source": [
    "#Let's analyze other numerical variables which could possibly have outlier dti,loan_amnt and funded_amnt_inv\n",
    "sns.boxplot(df.dti)"
   ]
  },
  {
   "cell_type": "code",
   "execution_count": 92,
   "id": "e6b6bdbf",
   "metadata": {},
   "outputs": [
    {
     "data": {
      "text/plain": [
       "<Axes: >"
      ]
     },
     "execution_count": 92,
     "metadata": {},
     "output_type": "execute_result"
    },
    {
     "data": {
      "image/png": "[encoded data removed]",
      "text/plain": [
       "<Figure size 640x480 with 1 Axes>"
      ]
     },
     "metadata": {},
     "output_type": "display_data"
    }
   ],
   "source": [
    "sns.boxplot(df.loan_amnt)"
   ]
  },
  {
   "cell_type": "code",
   "execution_count": 93,
   "id": "ddddbd8b",
   "metadata": {},
   "outputs": [
    {
     "data": {
      "text/plain": [
       "0.25     5000.0\n",
       "0.50     9250.0\n",
       "0.75    15000.0\n",
       "0.90    20000.0\n",
       "0.95    25000.0\n",
       "0.97    25475.0\n",
       "0.98    30000.0\n",
       "0.99    35000.0\n",
       "1.00    35000.0\n",
       "Name: loan_amnt, dtype: float64"
      ]
     },
     "execution_count": 93,
     "metadata": {},
     "output_type": "execute_result"
    }
   ],
   "source": [
    "loan_amnt_quantile = df.loan_amnt.quantile([0.25,0.50,0.75,0.90, 0.95, 0.97,0.98, 0.99,1.0])\n",
    "loan_amnt_quantile"
   ]
  },
  {
   "cell_type": "code",
   "execution_count": 94,
   "id": "c4d5554b",
   "metadata": {},
   "outputs": [
    {
     "data": {
      "text/plain": [
       "<Axes: >"
      ]
     },
     "execution_count": 94,
     "metadata": {},
     "output_type": "execute_result"
    },
    {
     "data": {
      "image/png": "[encoded data removed]",
      "text/plain": [
       "<Figure size 640x480 with 1 Axes>"
      ]
     },
     "metadata": {},
     "output_type": "display_data"
    }
   ],
   "source": [
    "sns.boxplot(df.funded_amnt_inv)"
   ]
  },
  {
   "cell_type": "code",
   "execution_count": 96,
   "id": "01371f41",
   "metadata": {},
   "outputs": [
    {
     "data": {
      "text/plain": [
       "0.25     4988.276705\n",
       "0.50     8396.342174\n",
       "0.75    13649.999283\n",
       "0.90    19750.000000\n",
       "0.95    23949.287805\n",
       "0.97    24975.000000\n",
       "0.98    27953.287538\n",
       "0.99    31966.803281\n",
       "1.00    35000.000000\n",
       "Name: funded_amnt_inv, dtype: float64"
      ]
     },
     "execution_count": 96,
     "metadata": {},
     "output_type": "execute_result"
    }
   ],
   "source": [
    "funded_amnt_inv = df.funded_amnt_inv.quantile([0.25,0.50,0.75,0.90, 0.95, 0.97,0.98, 0.99,1.0])\n",
    "funded_amnt_inv"
   ]
  },
  {
   "cell_type": "code",
   "execution_count": 97,
   "id": "12fda13f",
   "metadata": {},
   "outputs": [],
   "source": [
    "# do not see any outlier in funded_amnt_inv & loan_amnt_quantile"
   ]
  },
  {
   "cell_type": "code",
   "execution_count": 99,
   "id": "a14ccd9b",
   "metadata": {},
   "outputs": [
    {
     "data": {
      "text/plain": [
       "<Axes: xlabel='loan_status', ylabel='count'>"
      ]
     },
     "execution_count": 99,
     "metadata": {},
     "output_type": "execute_result"
    },
    {
     "data": {
      "image/png": "[encoded data removed]",
      "text/plain": [
       "<Figure size 640x480 with 1 Axes>"
      ]
     },
     "metadata": {},
     "output_type": "display_data"
    }
   ],
   "source": [
    "# let analyze Categorical Data\n",
    "\n",
    "# We are analyzing and visualizing only the defaulter data for categorial data loan_status\n",
    "\n",
    "sns.countplot(x = 'loan_status', data = df)"
   ]
  },
  {
   "cell_type": "code",
   "execution_count": 100,
   "id": "ecbc1b20",
   "metadata": {},
   "outputs": [
    {
     "data": {
      "text/plain": [
       "array([2, 4, 5, 1, 3], dtype=int64)"
      ]
     },
     "execution_count": 100,
     "metadata": {},
     "output_type": "execute_result"
    }
   ],
   "source": [
    "df.sub_grade = pd.to_numeric(df.sub_grade.apply(lambda x : x[-1]))\n",
    "df.sub_grade.unique()"
   ]
  },
  {
   "cell_type": "code",
   "execution_count": 101,
   "id": "290537ba",
   "metadata": {},
   "outputs": [
    {
     "data": {
      "text/plain": [
       "<Axes: xlabel='grade', ylabel='count'>"
      ]
     },
     "execution_count": 101,
     "metadata": {},
     "output_type": "execute_result"
    },
    {
     "data": {
      "image/png": "[encoded data removed]",
      "text/plain": [
       "<Figure size 640x480 with 1 Axes>"
      ]
     },
     "metadata": {},
     "output_type": "display_data"
    }
   ],
   "source": [
    "# analyzing defaulter based on grade, looks like grade B is contributing more. \n",
    "\n",
    "sns.countplot(x = 'grade', data = df[df.loan_status == 'Charged Off'], order = ['A', 'B', 'C', 'D', 'E', 'F', 'G'])"
   ]
  },
  {
   "cell_type": "code",
   "execution_count": 102,
   "id": "25ab1d6e",
   "metadata": {},
   "outputs": [
    {
     "data": {
      "text/plain": [
       "<Axes: xlabel='grade', ylabel='count'>"
      ]
     },
     "execution_count": 102,
     "metadata": {},
     "output_type": "execute_result"
    },
    {
     "data": {
      "image/png": "[encoded data removed]",
      "text/plain": [
       "<Figure size 1200x700 with 1 Axes>"
      ]
     },
     "metadata": {},
     "output_type": "display_data"
    }
   ],
   "source": [
    "# analyzing defaulter based on grade & subgrade, looks like grade B and sub grade b5 is contributing more. \n",
    "fig, ax = plt.subplots(figsize=(12,7))\n",
    "sns.countplot(x = 'grade', order = ['A', 'B', 'C', 'D', 'E', 'F', 'G'] , hue = 'sub_grade',data = df[df.loan_status == 'Charged Off'])"
   ]
  },
  {
   "cell_type": "code",
   "execution_count": 106,
   "id": "3f27f0e1",
   "metadata": {},
   "outputs": [
    {
     "data": {
      "text/plain": [
       "array(['RENT', 'OWN', 'MORTGAGE', 'OTHER'], dtype=object)"
      ]
     },
     "execution_count": 106,
     "metadata": {},
     "output_type": "execute_result"
    }
   ],
   "source": [
    "#checking unique values for home_ownership\n",
    "df['home_ownership'].unique()"
   ]
  },
  {
   "cell_type": "code",
   "execution_count": 107,
   "id": "e4980831",
   "metadata": {},
   "outputs": [],
   "source": [
    "df['home_ownership'].replace(to_replace = ['NONE'],value='OTHER',inplace = True)"
   ]
  },
  {
   "cell_type": "code",
   "execution_count": 109,
   "id": "f52f7588",
   "metadata": {},
   "outputs": [
    {
     "data": {
      "text/plain": [
       "<Axes: xlabel='home_ownership', ylabel='count'>"
      ]
     },
     "execution_count": 109,
     "metadata": {},
     "output_type": "execute_result"
    },
    {
     "data": {
      "image/png": "[encoded data removed]",
      "text/plain": [
       "<Figure size 600x400 with 1 Axes>"
      ]
     },
     "metadata": {},
     "output_type": "display_data"
    }
   ],
   "source": [
    "# analyzing defaulter based on home_ownership, looks like Rent owner is contributing more. \n",
    "\n",
    "fig, ax = plt.subplots(figsize = (6,4))\n",
    "sns.countplot(x='home_ownership', data=df[df['loan_status']=='Charged Off'])"
   ]
  },
  {
   "cell_type": "code",
   "execution_count": 113,
   "id": "a6e17aed",
   "metadata": {},
   "outputs": [
    {
     "data": {
      "text/plain": [
       "<Axes: xlabel='count', ylabel='addr_state'>"
      ]
     },
     "execution_count": 113,
     "metadata": {},
     "output_type": "execute_result"
    },
    {
     "data": {
      "image/png": "[encoded data removed]",
      "text/plain": [
       "<Figure size 1000x800 with 1 Axes>"
      ]
     },
     "metadata": {},
     "output_type": "display_data"
    }
   ],
   "source": [
    "# analyzing defaulter based on state, looks like GA is contributing more. \n",
    "\n",
    "fig, ax = plt.subplots(figsize = (10,8))\n",
    "sns.countplot(y='addr_state', data=df[df['loan_status']=='Charged Off'])"
   ]
  },
  {
   "cell_type": "code",
   "execution_count": 127,
   "id": "3be87dce",
   "metadata": {},
   "outputs": [
    {
     "data": {
      "text/plain": [
       "<Axes: xlabel='emp_length', ylabel='count'>"
      ]
     },
     "execution_count": 127,
     "metadata": {},
     "output_type": "execute_result"
    },
    {
     "data": {
      "image/png": "[encoded data removed]",
      "text/plain": [
       "<Figure size 1500x1000 with 1 Axes>"
      ]
     },
     "metadata": {},
     "output_type": "display_data"
    }
   ],
   "source": [
    "#Analyzing employee year of experience with loan defaulting, having 10 year exp considered in more defaulter list\n",
    "\n",
    "fig, ax = plt.subplots(figsize = (15,10))\n",
    "sns.countplot(x='emp_length', data=df[df.loan_status == 'Charged Off'])"
   ]
  },
  {
   "cell_type": "code",
   "execution_count": 130,
   "id": "845473ab",
   "metadata": {},
   "outputs": [],
   "source": [
    "df['total_acc_gps'] = pd.cut(df['total_acc'], bins=5,precision =0,labels=['2-20','20-37','37-55','55-74','74-90'])\n",
    "df['annual_inc_gps'] = pd.cut(df['annual_inc'], bins=5,precision =0,labels =['3k-31k','31k-58k','58k-85k','85k-112k','112k-140k'])"
   ]
  },
  {
   "cell_type": "code",
   "execution_count": 131,
   "id": "e0689dce",
   "metadata": {},
   "outputs": [
    {
     "data": {
      "text/plain": [
       "<Axes: xlabel='total_acc_gps', ylabel='count'>"
      ]
     },
     "execution_count": 131,
     "metadata": {},
     "output_type": "execute_result"
    },
    {
     "data": {
      "image/png": "[encoded data removed]",
      "text/plain": [
       "<Figure size 700x500 with 1 Axes>"
      ]
     },
     "metadata": {},
     "output_type": "display_data"
    }
   ],
   "source": [
    "#Similarly analyzing open_acc,annual_inc\n",
    "fig, ax = plt.subplots(figsize = (7,5))\n",
    "ax.set_yscale('log')\n",
    "sns.countplot(x='total_acc_gps', data=df[df.loan_status == 'Charged Off'])"
   ]
  },
  {
   "cell_type": "code",
   "execution_count": 132,
   "id": "13abafa1",
   "metadata": {},
   "outputs": [
    {
     "data": {
      "text/plain": [
       "<Axes: xlabel='annual_inc_gps', ylabel='count'>"
      ]
     },
     "execution_count": 132,
     "metadata": {},
     "output_type": "execute_result"
    },
    {
     "data": {
      "image/png": "[encoded data removed]",
      "text/plain": [
       "<Figure size 640x480 with 1 Axes>"
      ]
     },
     "metadata": {},
     "output_type": "display_data"
    }
   ],
   "source": [
    "sns.countplot(x='annual_inc_gps', data=df[df.loan_status == 'Charged Off'])"
   ]
  },
  {
   "cell_type": "code",
   "execution_count": 134,
   "id": "1ac4b71b",
   "metadata": {},
   "outputs": [
    {
     "data": {
      "text/plain": [
       "<Axes: xlabel='verification_status', ylabel='count'>"
      ]
     },
     "execution_count": 134,
     "metadata": {},
     "output_type": "execute_result"
    },
    {
     "data": {
      "image/png": "[encoded data removed]",
      "text/plain": [
       "<Figure size 640x480 with 1 Axes>"
      ]
     },
     "metadata": {},
     "output_type": "display_data"
    }
   ],
   "source": [
    "sns.countplot(x='verification_status', data=df[df['loan_status']=='Charged Off'])"
   ]
  },
  {
   "cell_type": "code",
   "execution_count": 136,
   "id": "b7b0058f",
   "metadata": {},
   "outputs": [
    {
     "data": {
      "image/png": "[encoded data removed]",
      "text/plain": [
       "<Figure size 1000x1000 with 1 Axes>"
      ]
     },
     "metadata": {},
     "output_type": "display_data"
    }
   ],
   "source": [
    "#Annual income vs home ownership\n",
    "plt.figure(figsize=(10,10))\n",
    "sns.barplot(data =df,x='home_ownership', y='annual_inc', hue ='loan_status',palette=\"pastel\")\n",
    "plt.show()"
   ]
  },
  {
   "cell_type": "code",
   "execution_count": 141,
   "id": "f01e8e7d",
   "metadata": {},
   "outputs": [
    {
     "data": {
      "text/plain": [
       "<Axes: xlabel='annual_inc_gps', ylabel='loan_amnt'>"
      ]
     },
     "execution_count": 141,
     "metadata": {},
     "output_type": "execute_result"
    },
    {
     "data": {
      "image/png": "[encoded data removed]",
      "text/plain": [
       "<Figure size 640x480 with 1 Axes>"
      ]
     },
     "metadata": {},
     "output_type": "display_data"
    }
   ],
   "source": [
    "# Annual Income vs Loan amount\n",
    "sns.barplot(x = \"annual_inc_gps\", y = \"loan_amnt\", hue = 'loan_status', data = df)"
   ]
  },
  {
   "cell_type": "code",
   "execution_count": 142,
   "id": "baa1e6f4",
   "metadata": {},
   "outputs": [
    {
     "ename": "NameError",
     "evalue": "name 'loan_data' is not defined",
     "output_type": "error",
     "traceback": [
      "\u001b[1;31m---------------------------------------------------------------------------\u001b[0m",
      "\u001b[1;31mNameError\u001b[0m                                 Traceback (most recent call last)",
      "Cell \u001b[1;32mIn[142], line 3\u001b[0m\n\u001b[0;32m      1\u001b[0m \u001b[38;5;66;03m#Annual income vs int_rate\u001b[39;00m\n\u001b[0;32m      2\u001b[0m plt\u001b[38;5;241m.\u001b[39mfigure(figsize\u001b[38;5;241m=\u001b[39m(\u001b[38;5;241m10\u001b[39m,\u001b[38;5;241m10\u001b[39m))\n\u001b[1;32m----> 3\u001b[0m sns\u001b[38;5;241m.\u001b[39mbarplot(data \u001b[38;5;241m=\u001b[39mloan_data,x\u001b[38;5;241m=\u001b[39m\u001b[38;5;124m'\u001b[39m\u001b[38;5;124mint_rate_gps\u001b[39m\u001b[38;5;124m'\u001b[39m, y\u001b[38;5;241m=\u001b[39m\u001b[38;5;124m'\u001b[39m\u001b[38;5;124mannual_inc\u001b[39m\u001b[38;5;124m'\u001b[39m, hue \u001b[38;5;241m=\u001b[39m\u001b[38;5;124m'\u001b[39m\u001b[38;5;124mloan_status\u001b[39m\u001b[38;5;124m'\u001b[39m,palette\u001b[38;5;241m=\u001b[39m\u001b[38;5;124m\"\u001b[39m\u001b[38;5;124mpastel\u001b[39m\u001b[38;5;124m\"\u001b[39m)\n\u001b[0;32m      4\u001b[0m plt\u001b[38;5;241m.\u001b[39mshow()\n",
      "\u001b[1;31mNameError\u001b[0m: name 'loan_data' is not defined"
     ]
    },
    {
     "data": {
      "text/plain": [
       "<Figure size 1000x1000 with 0 Axes>"
      ]
     },
     "metadata": {},
     "output_type": "display_data"
    }
   ],
   "source": []
  },
  {
   "cell_type": "code",
   "execution_count": null,
   "id": "922b496b",
   "metadata": {},
   "outputs": [],
   "source": []
  }
 ],
 "metadata": {
  "kernelspec": {
   "display_name": "Python 3 (ipykernel)",
   "language": "python",
   "name": "python3"
  },
  "language_info": {
   "codemirror_mode": {
    "name": "ipython",
    "version": 3
   },
   "file_extension": ".py",
   "mimetype": "text/x-python",
   "name": "python",
   "nbconvert_exporter": "python",
   "pygments_lexer": "ipython3",
   "version": "3.11.5"
  }
 },
 "nbformat": 4,
 "nbformat_minor": 5
}
